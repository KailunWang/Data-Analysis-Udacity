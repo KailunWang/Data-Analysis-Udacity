{
 "cells": [
  {
   "cell_type": "markdown",
   "metadata": {},
   "source": [
    "# 2016 US Bike Share Activity Snapshot\n",
    "\n",
    "## Table of Contents\n",
    "- [Introduction](#intro)\n",
    "- [Posing Questions](#pose_questions)\n",
    "- [Data Collection and Wrangling](#wrangling)\n",
    "  - [Condensing the Trip Data](#condensing)\n",
    "- [Exploratory Data Analysis](#eda)\n",
    "  - [Statistics](#statistics)\n",
    "  - [Visualizations](#visualizations)\n",
    "- [Performing Your Own Analysis](#eda_continued)\n",
    "- [Conclusions](#conclusions)\n",
    "\n",
    "<a id='intro'></a>\n",
    "## Introduction\n",
    "\n",
    "> **Tip**: Quoted sections like this will provide helpful instructions on how to navigate and use a Jupyter notebook.\n",
    "\n",
    "Over the past decade, bicycle-sharing systems have been growing in number and popularity in cities across the world. Bicycle-sharing systems allow users to rent bicycles for short trips, typically 30 minutes or less. Thanks to the rise in information technologies, it is easy for a user of the system to access a dock within the system to unlock or return bicycles. These technologies also provide a wealth of data that can be used to explore how these bike-sharing systems are used.\n",
    "\n",
    "In this project, you will perform an exploratory analysis on data provided by [Motivate](https://www.motivateco.com/), a bike-share system provider for many major cities in the United States. You will compare the system usage between three large cities: New York City, Chicago, and Washington, DC. You will also see if there are any differences within each system for those users that are registered, regular users and those users that are short-term, casual users."
   ]
  },
  {
   "cell_type": "markdown",
   "metadata": {},
   "source": [
    "<a id='pose_questions'></a>\n",
    "## Posing Questions\n",
    "\n",
    "Before looking at the bike sharing data, you should start by asking questions you might want to understand about the bike share data. Consider, for example, if you were working for Motivate. What kinds of information would you want to know about in order to make smarter business decisions? If you were a user of the bike-share service, what factors might influence how you would want to use the service?\n",
    "\n",
    "**Question 1**: Write at least two questions related to bike sharing that you think could be answered by data.\n",
    "\n",
    "**Answer**: \n",
    "\n",
    " - What are ratos of long term users in each of the cities?\n",
    " - Which area has the most active bike sharing activities in each of the cities?\n",
    " \n",
    "\n",
    "> **Tip**: If you double click on this cell, you will see the text change so that all of the formatting is removed. This allows you to edit this block of text. This block of text is written using [Markdown](http://daringfireball.net/projects/markdown/syntax), which is a way to format text using headers, links, italics, and many other options using a plain-text syntax. You will also use Markdown later in the Nanodegree program. Use **Shift** + **Enter** or **Shift** + **Return** to run the cell and show its rendered form."
   ]
  },
  {
   "cell_type": "markdown",
   "metadata": {},
   "source": [
    "<a id='wrangling'></a>\n",
    "## Data Collection and Wrangling\n",
    "\n",
    "Now it's time to collect and explore our data. In this project, we will focus on the record of individual trips taken in 2016 from our selected cities: New York City, Chicago, and Washington, DC. Each of these cities has a page where we can freely download the trip data.:\n",
    "\n",
    "- New York City (Citi Bike): [Link](https://www.citibikenyc.com/system-data)\n",
    "- Chicago (Divvy): [Link](https://www.divvybikes.com/system-data)\n",
    "- Washington, DC (Capital Bikeshare): [Link](https://www.capitalbikeshare.com/system-data)\n",
    "\n",
    "If you visit these pages, you will notice that each city has a different way of delivering its data. Chicago updates with new data twice a year, Washington DC is quarterly, and New York City is monthly. **However, you do not need to download the data yourself.** The data has already been collected for you in the `/data/` folder of the project files. While the original data for 2016 is spread among multiple files for each city, the files in the `/data/` folder collect all of the trip data for the year into one file per city. Some data wrangling of inconsistencies in timestamp format within each city has already been performed for you. In addition, a random 2% sample of the original data is taken to make the exploration more manageable. \n",
    "\n",
    "**Question 2**: However, there is still a lot of data for us to investigate, so it's a good idea to start off by looking at one entry from each of the cities we're going to analyze. Run the first code cell below to load some packages and functions that you'll be using in your analysis. Then, complete the second code cell to print out the first trip recorded from each of the cities (the second line of each data file).\n",
    "\n",
    "> **Tip**: You can run a code cell like you formatted Markdown cells above by clicking on the cell and using the keyboard shortcut **Shift** + **Enter** or **Shift** + **Return**. Alternatively, a code cell can be executed using the **Play** button in the toolbar after selecting it. While the cell is running, you will see an asterisk in the message to the left of the cell, i.e. `In [*]:`. The asterisk will change into a number to show that execution has completed, e.g. `In [1]`. If there is output, it will show up as `Out [1]:`, with an appropriate number to match the \"In\" number."
   ]
  },
  {
   "cell_type": "code",
   "execution_count": 224,
   "metadata": {
    "collapsed": true
   },
   "outputs": [],
   "source": [
    "## import all necessary packages and functions.\n",
    "import csv # read and write csv files\n",
    "from datetime import datetime # operations to parse dates\n",
    "from pprint import pprint # use to print data structures like dictionaries in\n",
    "                          # a nicer way than the base print function."
   ]
  },
  {
   "cell_type": "code",
   "execution_count": 225,
   "metadata": {},
   "outputs": [
    {
     "name": "stdout",
     "output_type": "stream",
     "text": [
      "\n",
      "City: NYC\n",
      "{'bikeid': '17109',\n",
      " 'birth year': '',\n",
      " 'end station id': '401',\n",
      " 'end station latitude': '40.72019576',\n",
      " 'end station longitude': '-73.98997825',\n",
      " 'end station name': 'Allen St & Rivington St',\n",
      " 'gender': '0',\n",
      " 'start station id': '532',\n",
      " 'start station latitude': '40.710451',\n",
      " 'start station longitude': '-73.960876',\n",
      " 'start station name': 'S 5 Pl & S 4 St',\n",
      " 'starttime': '1/1/2016 00:09:55',\n",
      " 'stoptime': '1/1/2016 00:23:54',\n",
      " 'tripduration': '839',\n",
      " 'usertype': 'Customer'}\n",
      "\n",
      "City: Chicago\n",
      "{'bikeid': '2295',\n",
      " 'birthyear': '1990',\n",
      " 'from_station_id': '156',\n",
      " 'from_station_name': 'Clark St & Wellington Ave',\n",
      " 'gender': 'Male',\n",
      " 'starttime': '3/31/16 23:30',\n",
      " 'stoptime': '3/31/16 23:46',\n",
      " 'to_station_id': '166',\n",
      " 'to_station_name': 'Ashland Ave & Wrightwood Ave',\n",
      " 'trip_id': '9080545',\n",
      " 'tripduration': '926',\n",
      " 'usertype': 'Subscriber'}\n",
      "\n",
      "City: Washington\n",
      "{'Bike number': 'W20842',\n",
      " 'Duration (ms)': '427387',\n",
      " 'End date': '3/31/2016 23:04',\n",
      " 'End station': 'Georgia Ave and Fairmont St NW',\n",
      " 'End station number': '31207',\n",
      " 'Member Type': 'Registered',\n",
      " 'Start date': '3/31/2016 22:57',\n",
      " 'Start station': 'Park Rd & Holmead Pl NW',\n",
      " 'Start station number': '31602'}\n"
     ]
    }
   ],
   "source": [
    "def print_first_point(filename):\n",
    "    \"\"\"\n",
    "    This function prints and returns the first data point (second row) from\n",
    "    a csv file that includes a header row.\n",
    "    \"\"\"\n",
    "    # print city name for reference\n",
    "    city = filename.split('-')[0].split('/')[-1]\n",
    "    print('\\nCity: {}'.format(city))\n",
    "    \n",
    "    with open(filename, 'r') as f_in:\n",
    "        ## TODO: Use the csv library to set up a DictReader object. ##\n",
    "        ## see https://docs.python.org/3/library/csv.html           ##\n",
    "        trip_reader = csv.DictReader(f_in)\n",
    "        \n",
    "        ## TODO: Use a function on the DictReader object to read the     ##\n",
    "        ## first trip from the data file and store it in a variable.     ##\n",
    "        ## see https://docs.python.org/3/library/csv.html#reader-objects ##\n",
    "        first_trip = next(trip_reader)\n",
    "        \n",
    "        ## TODO: Use the pprint library to print the first trip. ##\n",
    "        ## see https://docs.python.org/3/library/pprint.html     ##\n",
    "        pprint(first_trip)\n",
    "        \n",
    "    # output city name and first trip for later testing\n",
    "    return (city, first_trip)\n",
    "\n",
    "# list of files for each city\n",
    "data_files = ['./data/NYC-CitiBike-2016.csv',\n",
    "              './data/Chicago-Divvy-2016.csv',\n",
    "              './data/Washington-CapitalBikeshare-2016.csv',]\n",
    "\n",
    "# print the first trip from each file, store in dictionary\n",
    "example_trips = {}\n",
    "for data_file in data_files:\n",
    "    city, first_trip = print_first_point(data_file)\n",
    "    example_trips[city] = first_trip"
   ]
  },
  {
   "cell_type": "markdown",
   "metadata": {},
   "source": [
    "If everything has been filled out correctly, you should see below the printout of each city name (which has been parsed from the data file name) that the first trip has been parsed in the form of a dictionary. When you set up a `DictReader` object, the first row of the data file is normally interpreted as column names. Every other row in the data file will use those column names as keys, as a dictionary is generated for each row.\n",
    "\n",
    "This will be useful since we can refer to quantities by an easily-understandable label instead of just a numeric index. For example, if we have a trip stored in the variable `row`, then we would rather get the trip duration from `row['duration']` instead of `row[0]`.\n",
    "\n",
    "<a id='condensing'></a>\n",
    "### Condensing the Trip Data\n",
    "\n",
    "It should also be observable from the above printout that each city provides different information. Even where the information is the same, the column names and formats are sometimes different. To make things as simple as possible when we get to the actual exploration, we should trim and clean the data. Cleaning the data makes sure that the data formats across the cities are consistent, while trimming focuses only on the parts of the data we are most interested in to make the exploration easier to work with.\n",
    "\n",
    "You will generate new data files with five values of interest for each trip: trip duration, starting month, starting hour, day of the week, and user type. Each of these may require additional wrangling depending on the city:\n",
    "\n",
    "- **Duration**: This has been given to us in seconds (New York, Chicago) or milliseconds (Washington). A more natural unit of analysis will be if all the trip durations are given in terms of minutes.\n",
    "- **Month**, **Hour**, **Day of Week**: Ridership volume is likely to change based on the season, time of day, and whether it is a weekday or weekend. Use the start time of the trip to obtain these values. The New York City data includes the seconds in their timestamps, while Washington and Chicago do not. The [`datetime`](https://docs.python.org/3/library/datetime.html) package will be very useful here to make the needed conversions.\n",
    "- **User Type**: It is possible that users who are subscribed to a bike-share system will have different patterns of use compared to users who only have temporary passes. Washington divides its users into two types: 'Registered' for users with annual, monthly, and other longer-term subscriptions, and 'Casual', for users with 24-hour, 3-day, and other short-term passes. The New York and Chicago data uses 'Subscriber' and 'Customer' for these groups, respectively. For consistency, you will convert the Washington labels to match the other two.\n",
    "\n",
    "\n",
    "**Question 3a**: Complete the helper functions in the code cells below to address each of the cleaning tasks described above."
   ]
  },
  {
   "cell_type": "code",
   "execution_count": 226,
   "metadata": {
    "collapsed": true
   },
   "outputs": [],
   "source": [
    "def duration_in_mins(datum, city):\n",
    "    \"\"\"\n",
    "    Takes as input a dictionary containing info about a single trip (datum) and\n",
    "    its origin city (city) and returns the trip duration in units of minutes.\n",
    "    \n",
    "    Remember that Washington is in terms of milliseconds while Chicago and NYC\n",
    "    are in terms of seconds. \n",
    "    \n",
    "    HINT: The csv module reads in all of the data as strings, including numeric\n",
    "    values. You will need a function to convert the strings into an appropriate\n",
    "    numeric type when making your transformations.\n",
    "    see https://docs.python.org/3/library/functions.html\n",
    "    \"\"\"\n",
    "    \n",
    "    # YOUR CODE HERE\n",
    "    if city == 'NYC':\n",
    "        duration = float(datum['tripduration'])/60\n",
    "    elif city == 'Chicago':\n",
    "        duration = float(datum['tripduration'])/60\n",
    "    else:\n",
    "        duration = float(datum['Duration (ms)'])/60000\n",
    "\n",
    "    return duration\n",
    "\n",
    "\n",
    "# Some tests to check that your code works. There should be no output if all of\n",
    "# the assertions pass. The `example_trips` dictionary was obtained from when\n",
    "# you printed the first trip from each of the original data files.\n",
    "tests = {'NYC': 13.9833,\n",
    "         'Chicago': 15.4333,\n",
    "         'Washington': 7.1231}\n",
    "\n",
    "for city in tests:\n",
    "    assert abs(duration_in_mins(example_trips[city], city) - tests[city]) < .001"
   ]
  },
  {
   "cell_type": "code",
   "execution_count": 227,
   "metadata": {
    "collapsed": true
   },
   "outputs": [],
   "source": [
    "def time_of_trip(datum, city):\n",
    "    \"\"\"\n",
    "    Takes as input a dictionary containing info about a single trip (datum) and\n",
    "    its origin city (city) and returns the month, hour, and day of the week in\n",
    "    which the trip was made.\n",
    "    \n",
    "    Remember that NYC includes seconds, while Washington and Chicago do not.\n",
    "    \n",
    "    HINT: You should use the datetime module to parse the original date\n",
    "    strings into a format that is useful for extracting the desired information.\n",
    "    see https://docs.python.org/3/library/datetime.html#strftime-and-strptime-behavior\n",
    "    \"\"\"\n",
    "    \n",
    "    # YOUR CODE HERE\n",
    "    if city == 'NYC':\n",
    "        trip_date = datetime.strptime(datum['starttime'], \"%m/%d/%Y %H:%M:%S\" )\n",
    "    elif city == 'Chicago':\n",
    "        trip_date = datetime.strptime(datum['starttime'], \"%m/%d/%y %H:%M\")\n",
    "    else:\n",
    "        trip_date = datetime.strptime(datum['Start date'], \"%m/%d/%Y %H:%M\")\n",
    "    \n",
    "    month = trip_date.month\n",
    "    hour = trip_date.hour\n",
    "    day_of_week = trip_date.strftime('%A')\n",
    "    \n",
    "    \n",
    "    \n",
    "    return (month, hour, day_of_week)\n",
    "\n",
    "\n",
    "# Some tests to check that your code works. There should be no output if all of\n",
    "# the assertions pass. The `example_trips` dictionary was obtained from when\n",
    "# you printed the first trip from each of the original data files.\n",
    "tests = {'NYC': (1, 0, 'Friday'),\n",
    "         'Chicago': (3, 23, 'Thursday'),\n",
    "         'Washington': (3, 22, 'Thursday')}\n",
    "\n",
    "for city in tests:\n",
    "    assert time_of_trip(example_trips[city], city) == tests[city]"
   ]
  },
  {
   "cell_type": "code",
   "execution_count": 228,
   "metadata": {
    "collapsed": true
   },
   "outputs": [],
   "source": [
    "def type_of_user(datum, city):\n",
    "    \"\"\"\n",
    "    Takes as input a dictionary containing info about a single trip (datum) and\n",
    "    its origin city (city) and returns the type of system user that made the\n",
    "    trip.\n",
    "    \n",
    "    Remember that Washington has different category names compared to Chicago\n",
    "    and NYC. \n",
    "    \"\"\"\n",
    "    \n",
    "#     # YOUR CODE HERE\n",
    "    if city == 'Washington':\n",
    "        if datum['Member Type'] == 'Registered':\n",
    "            return 'Subscriber'\n",
    "        else:\n",
    "            return 'Customer'\n",
    "    else:\n",
    "        return datum['usertype']\n",
    "\n",
    "#     if city == 'NYC':\n",
    "#         user_type = datum['usertype']\n",
    "#     elif city == 'Chicago':\n",
    "#         user_type = datum['usertype']\n",
    "#     else:\n",
    "#         if datum['Member Type'] == 'Registered':\n",
    "#             return 'Subscriber'\n",
    "\n",
    "\n",
    "# Some tests to check that your code works. There should be no output if all of\n",
    "# the assertions pass. The `example_trips` dictionary was obtained from when\n",
    "# you printed the first trip from each of the original data files.\n",
    "tests = {'NYC': 'Customer',\n",
    "         'Chicago': 'Subscriber',\n",
    "         'Washington': 'Subscriber'}\n",
    "\n",
    "for city in tests:\n",
    "    assert type_of_user(example_trips[city], city) == tests[city]"
   ]
  },
  {
   "cell_type": "markdown",
   "metadata": {},
   "source": [
    "**Question 3b**: Now, use the helper functions you wrote above to create a condensed data file for each city consisting only of the data fields indicated above. In the `/examples/` folder, you will see an example datafile from the [Bay Area Bike Share](http://www.bayareabikeshare.com/open-data) before and after conversion. Make sure that your output is formatted to be consistent with the example file."
   ]
  },
  {
   "cell_type": "code",
   "execution_count": 229,
   "metadata": {
    "collapsed": true
   },
   "outputs": [],
   "source": [
    "def condense_data(in_file, out_file, city):\n",
    "    \"\"\"\n",
    "    This function takes full data from the specified input file\n",
    "    and writes the condensed data to a specified output file. The city\n",
    "    argument determines how the input file will be parsed.\n",
    "    \n",
    "    HINT: See the cell below to see how the arguments are structured!\n",
    "    \"\"\"\n",
    "    \n",
    "    with open(out_file, 'w') as f_out, open(in_file, 'r') as f_in:\n",
    "        # set up csv DictWriter object - writer requires column names for the\n",
    "        # first row as the \"fieldnames\" argument\n",
    "        out_colnames = ['duration', 'month', 'hour', 'day_of_week', 'user_type']        \n",
    "        trip_writer = csv.DictWriter(f_out, fieldnames = out_colnames)\n",
    "        trip_writer.writeheader()\n",
    "        \n",
    "        ## TODO: set up csv DictReader object ##\n",
    "        trip_reader = csv.DictReader(f_in)\n",
    "\n",
    "        # collect data from and process each row\n",
    "        for row in trip_reader:\n",
    "            # set up a dictionary to hold the values for the cleaned and trimmed\n",
    "            # data point\n",
    "            new_point = {}\n",
    "            new_point['duration'] = duration_in_mins(row, city)\n",
    "            new_point['month'] = time_of_trip(row, city)[0]\n",
    "            new_point['hour'] = time_of_trip(row, city)[1]\n",
    "            new_point['day_of_week'] = time_of_trip(row, city)[2]\n",
    "            new_point['user_type'] = type_of_user(row, city)\n",
    "\n",
    "            ## TODO: use the helper functions to get the cleaned data from  ##\n",
    "            ## the original data dictionaries.                              ##\n",
    "            \n",
    "            ## Note that the keys for the new_point dictionary should match ##\n",
    "            ## the column names set in the DictWriter object above.         ##\n",
    "            \n",
    "            trip_writer.writerow(new_point)\n",
    "\n",
    "            ## TODO: write the processed information to the output file.     ##\n",
    "            ## see https://docs.python.org/3/library/csv.html#writer-objects ##\n",
    "            \n",
    "            "
   ]
  },
  {
   "cell_type": "code",
   "execution_count": 230,
   "metadata": {},
   "outputs": [
    {
     "name": "stdout",
     "output_type": "stream",
     "text": [
      "\n",
      "City: NYC\n",
      "{'day_of_week': 'Friday',\n",
      " 'duration': '13.983333333333333',\n",
      " 'hour': '0',\n",
      " 'month': '1',\n",
      " 'user_type': 'Customer'}\n",
      "\n",
      "City: Washington\n",
      "{'day_of_week': 'Thursday',\n",
      " 'duration': '7.123116666666666',\n",
      " 'hour': '22',\n",
      " 'month': '3',\n",
      " 'user_type': 'Subscriber'}\n",
      "\n",
      "City: Chicago\n",
      "{'day_of_week': 'Thursday',\n",
      " 'duration': '15.433333333333334',\n",
      " 'hour': '23',\n",
      " 'month': '3',\n",
      " 'user_type': 'Subscriber'}\n"
     ]
    }
   ],
   "source": [
    "# Run this cell to check your work\n",
    "city_info = {'Washington': {'in_file': './data/Washington-CapitalBikeshare-2016.csv',\n",
    "                            'out_file': './data/Washington-2016-Summary.csv'},\n",
    "             'Chicago': {'in_file': './data/Chicago-Divvy-2016.csv',\n",
    "                         'out_file': './data/Chicago-2016-Summary.csv'},\n",
    "             'NYC': {'in_file': './data/NYC-CitiBike-2016.csv',\n",
    "                     'out_file': './data/NYC-2016-Summary.csv'}}\n",
    "\n",
    "for city, filenames in city_info.items():\n",
    "    condense_data(filenames['in_file'], filenames['out_file'], city)\n",
    "    print_first_point(filenames['out_file'])"
   ]
  },
  {
   "cell_type": "markdown",
   "metadata": {},
   "source": [
    "> **Tip**: If you save a jupyter Notebook, the output from running code blocks will also be saved. However, the state of your workspace will be reset once a new session is started. Make sure that you run all of the necessary code blocks from your previous session to reestablish variables and functions before picking up where you last left off.\n",
    "\n",
    "<a id='eda'></a>\n",
    "## Exploratory Data Analysis\n",
    "\n",
    "Now that you have the data collected and wrangled, you're ready to start exploring the data. In this section you will write some code to compute descriptive statistics from the data. You will also be introduced to the `matplotlib` library to create some basic histograms of the data.\n",
    "\n",
    "<a id='statistics'></a>\n",
    "### Statistics\n",
    "\n",
    "First, let's compute some basic counts. The first cell below contains a function that uses the csv module to iterate through a provided data file, returning the number of trips made by subscribers and customers. The second cell runs this function on the example Bay Area data in the `/examples/` folder. Modify the cells to answer the question below.\n",
    "\n",
    "**Question 4a**: Which city has the highest number of trips? Which city has the highest proportion of trips made by subscribers? Which city has the highest proportion of trips made by short-term customers?\n",
    "\n",
    "**Answer**:\n",
    " - Which city has the highest number of trips? \n",
    "     - NYC, which is 245896 trips.\n",
    " \n",
    " \n",
    " - Which city has the highest proportion of trips made by subscribers? \n",
    "     - NYC, which is 88.84%\n",
    " \n",
    " \n",
    " - Which city has the highest proportion of trips made by short-term customers?\n",
    "     - Chicago, which is 23.77%\n"
   ]
  },
  {
   "cell_type": "code",
   "execution_count": 231,
   "metadata": {
    "collapsed": true
   },
   "outputs": [],
   "source": [
    "def number_of_trips(filename):\n",
    "    \"\"\"\n",
    "    This function reads in a file with trip data and reports the number of\n",
    "    trips made by subscribers, customers, and total overall.\n",
    "    \"\"\"\n",
    "    with open(filename, 'r') as f_in:\n",
    "        # set up csv reader object\n",
    "        reader = csv.DictReader(f_in)\n",
    "        \n",
    "        # initialize count variables\n",
    "        n_subscribers = 0\n",
    "        n_customers = 0\n",
    "        \n",
    "        # tally up ride types\n",
    "        for row in reader:\n",
    "#             print (reader)\n",
    "            if row['user_type'] == 'Subscriber':\n",
    "                n_subscribers += 1\n",
    "            else:\n",
    "                n_customers += 1\n",
    "\n",
    "        \n",
    "#         for row in reader:\n",
    "# #             print (reader)\n",
    "#             if 'user_type' in row:\n",
    "#                 if row['user_type'] == 'Subscriber':\n",
    "#                     n_subscribers += 1\n",
    "#                 else:\n",
    "#                     n_customers += 1\n",
    "#             elif 'Member Type' in row:#\n",
    "#                 if row['Member Type'] == 'Registered': #\n",
    "#                     n_subscribers += 1 #\n",
    "#                 else:#\n",
    "#                     n_customers += 1#\n",
    "#             elif row['usertype'] == 'Subscriber':\n",
    "#                 n_subscribers += 1\n",
    "#             else:\n",
    "#                 n_customers += 1\n",
    "        \n",
    "        # compute total number of rides\n",
    "        n_total = n_subscribers + n_customers\n",
    "        \n",
    "        # return tallies as a tuple\n",
    "        return(n_subscribers, n_customers, n_total)"
   ]
  },
  {
   "cell_type": "code",
   "execution_count": 232,
   "metadata": {},
   "outputs": [
    {
     "name": "stdout",
     "output_type": "stream",
     "text": [
      "(245896, 30902, 276798)\n"
     ]
    }
   ],
   "source": [
    "data_NYC_postSummary = './data/NYC-2016-Summary.csv' \n",
    "print (number_of_trips(data_NYC_postSummary))"
   ]
  },
  {
   "cell_type": "code",
   "execution_count": 233,
   "metadata": {},
   "outputs": [
    {
     "name": "stdout",
     "output_type": "stream",
     "text": [
      "('NYC subscribers:', 245896)\n",
      "('NYC customers:', 30902)\n",
      "('NYC total users:', 276798)\n",
      "('The proportion of subscribers:', '88.84%')\n",
      "('The proportion of customers:', '11.16%')\n"
     ]
    }
   ],
   "source": [
    "data_of_NYC = number_of_trips(data_NYC_postSummary)\n",
    "NYC_Subscribers = data_of_NYC[0]\n",
    "print (\"NYC subscribers:\", NYC_Subscribers)\n",
    "NYC_Customers = data_of_NYC[1]\n",
    "print ('NYC customers:', NYC_Customers)\n",
    "NYC_total_users = data_of_NYC[2]\n",
    "print ('NYC total users:', NYC_total_users)\n",
    "print ('The proportion of subscribers:' , \"{0:.2f}%\".format(float(data_of_NYC[0])/data_of_NYC[2] * 100))\n",
    "print ('The proportion of customers:', \"{0:.2f}%\".format(float(data_of_NYC[1])/data_of_NYC[2] * 100))"
   ]
  },
  {
   "cell_type": "code",
   "execution_count": 234,
   "metadata": {},
   "outputs": [
    {
     "name": "stdout",
     "output_type": "stream",
     "text": [
      "(245896, 30902, 276798)\n"
     ]
    }
   ],
   "source": [
    "data_NYC_postSummary = './data/NYC-2016-Summary.csv'\n",
    "print (number_of_trips(data_NYC_postSummary))"
   ]
  },
  {
   "cell_type": "code",
   "execution_count": 235,
   "metadata": {},
   "outputs": [
    {
     "name": "stdout",
     "output_type": "stream",
     "text": [
      "(54982, 17149, 72131)\n",
      "('Chicago subscribers:', 54982)\n",
      "('Chicago customers:', 17149)\n",
      "('Chicago total users:', 72131)\n",
      "('The proportion of subscribers:', '76.23%')\n",
      "('The proportion of customers:', '23.77%')\n"
     ]
    }
   ],
   "source": [
    "data_Chg_postSummary = './data/Chicago-2016-Summary.csv'\n",
    "print (number_of_trips(data_Chg_postSummary))\n",
    "data_of_Chicago = number_of_trips(data_Chg_postSummary)\n",
    "print ('Chicago subscribers:', data_of_Chicago[0])\n",
    "print ('Chicago customers:', data_of_Chicago[1])\n",
    "print ('Chicago total users:', data_of_Chicago[2])\n",
    "print ('The proportion of subscribers:' , \"{0:.2f}%\".format(float(data_of_Chicago[0])/data_of_Chicago[2] * 100))\n",
    "print ('The proportion of customers:', \"{0:.2f}%\".format(float(data_of_Chicago[1])/data_of_Chicago[2] * 100))"
   ]
  },
  {
   "cell_type": "code",
   "execution_count": 236,
   "metadata": {},
   "outputs": [
    {
     "name": "stdout",
     "output_type": "stream",
     "text": [
      "(51753, 14573, 66326)\n",
      "('DC subscribers:', 51753)\n",
      "('DC customers:', 14573)\n",
      "('DC toatl users:', 66326)\n",
      "('The proportion of subscribers:', '78.03%')\n",
      "('The proportion of customers:', '21.97%')\n"
     ]
    }
   ],
   "source": [
    "data_DC_postSummary = './data/Washington-2016-Summary.csv'\n",
    "print (number_of_trips(data_DC_postSummary))\n",
    "data_of_DC = number_of_trips(data_DC_postSummary)\n",
    "print ('DC subscribers:', data_of_DC[0])\n",
    "print ('DC customers:', data_of_DC[1])\n",
    "print (\"DC toatl users:\", data_of_DC[2])\n",
    "print ('The proportion of subscribers:' , \"{0:.2f}%\".format(float(data_of_DC[0])/data_of_DC[2] * 100))\n",
    "print ('The proportion of customers:', \"{0:.2f}%\".format(float(data_of_DC[1])/data_of_DC[2] * 100))"
   ]
  },
  {
   "cell_type": "code",
   "execution_count": 237,
   "metadata": {
    "collapsed": true
   },
   "outputs": [],
   "source": [
    "## Modify this and the previous cell to answer Question 4a. Remember to run ##\n",
    "## the function on the cleaned data files you created from Question 3.      ##\n",
    "# data_file = './examples/BayArea-Y3-Summary.csv'\n",
    "# print(number_of_trips(data_file))"
   ]
  },
  {
   "cell_type": "code",
   "execution_count": 238,
   "metadata": {
    "collapsed": true
   },
   "outputs": [],
   "source": [
    "def stas_of_Chicago(filename):\n",
    "    \"\"\"\n",
    "    This function reads in a file with trip data and reports the number of\n",
    "    trips made by subscribers, customers, and total overall.\n",
    "    \"\"\"\n",
    "    with open(filename, 'r') as f_in:\n",
    "        # set up csv reader object\n",
    "        reader = csv.DictReader(f_in)\n",
    "        \n",
    "        # initialize count variables3\n",
    "        n_subscribers = 0\n",
    "        n_customers = 0\n",
    "        \n",
    "        # tally up ride types\n",
    "        for row in reader:\n",
    "            if row['user_type'] == 'Subscriber':\n",
    "                n_subscribers += 1\n",
    "            else:\n",
    "                n_customers += 1\n",
    "        \n",
    "        # compute total number of rides\n",
    "        n_total = n_subscribers + n_customers\n",
    "        \n",
    "        # return tallies as a tuple\n",
    "        return(n_subscribers, n_customers, n_total)"
   ]
  },
  {
   "cell_type": "code",
   "execution_count": 239,
   "metadata": {},
   "outputs": [
    {
     "data": {
      "text/plain": [
       "\"\\nimport numpy as np\\nimport pandas as pd\\nimport IPython.display as display\\n\\nNYC_data = pd.read_csv('./data/NYC-CitiBike-2016.csv')\\nChicago_data = pd.read_csv('./data/Chicago-Divvy-2016.csv')\\nWashington_data = pd.read_csv('./data/Washington-CapitalBikeshare-2016.csv')\\n\\n\\nNYC_all_users = NYC_data['usertype']\\ntest = NYC_all_users = 'Customer'\\n\\n\\nNYC_total_users = len(NYC_data['usertype'])\\n\\nprint (NYC_total_users)\\n\\n\\nChg_all_users = Chicago_data['usertype']\\nChg_total_users = len(Chicago_data['usertype'])\\n# Chg_sub_user = len(Chicago_data['usertype'] == 'Customer')\\nprint (Chg_total_users)\\n\\nWST_all_users = Washington_data['Member Type']\\nWST_total_users = len(Washington_data['Member Type'])\\nprint (WST_total_users)\\n\""
      ]
     },
     "execution_count": 239,
     "metadata": {},
     "output_type": "execute_result"
    }
   ],
   "source": [
    "'''\n",
    "import numpy as np\n",
    "import pandas as pd\n",
    "import IPython.display as display\n",
    "\n",
    "NYC_data = pd.read_csv('./data/NYC-CitiBike-2016.csv')\n",
    "Chicago_data = pd.read_csv('./data/Chicago-Divvy-2016.csv')\n",
    "Washington_data = pd.read_csv('./data/Washington-CapitalBikeshare-2016.csv')\n",
    "\n",
    "\n",
    "NYC_all_users = NYC_data['usertype']\n",
    "test = NYC_all_users = 'Customer'\n",
    "\n",
    "\n",
    "NYC_total_users = len(NYC_data['usertype'])\n",
    "\n",
    "print (NYC_total_users)\n",
    "\n",
    "\n",
    "Chg_all_users = Chicago_data['usertype']\n",
    "Chg_total_users = len(Chicago_data['usertype'])\n",
    "# Chg_sub_user = len(Chicago_data['usertype'] == 'Customer')\n",
    "print (Chg_total_users)\n",
    "\n",
    "WST_all_users = Washington_data['Member Type']\n",
    "WST_total_users = len(Washington_data['Member Type'])\n",
    "print (WST_total_users)\n",
    "'''"
   ]
  },
  {
   "cell_type": "markdown",
   "metadata": {},
   "source": [
    "> **Tip**: In order to add additional cells to a notebook, you can use the \"Insert Cell Above\" and \"Insert Cell Below\" options from the menu bar above. There is also an icon in the toolbar for adding new cells, with additional icons for moving the cells up and down the document. By default, new cells are of the code type; you can also specify the cell type (e.g. Code or Markdown) of selected cells from the Cell menu or the dropdown in the toolbar.\n",
    "\n",
    "Now, you will write your own code to continue investigating properties of the data.\n",
    "\n",
    "**Question 4b**: Bike-share systems are designed for riders to take short trips. Most of the time, users are allowed to take trips of 30 minutes or less with no additional charges, with overage charges made for trips of longer than that duration. What is the average trip length for each city? What proportion of rides made in each city are longer than 30 minutes?\n",
    "\n",
    "**Answer**: \n",
    "  - What is the average trip length for each city?\n",
    "      - NYC:15.81 minutes\n",
    "      - Chicago: 16.56 minutes\n",
    "      - Washington DC: 65.99 minutes\n",
    "      \n",
    "      \n",
    "  - What proportion of rides made in each city are longer than 30 minutes?\n",
    "       - NYC: 7.30%\n",
    "       - Chicago: 8.33%\n",
    "       - Washington DC: 30.48% "
   ]
  },
  {
   "cell_type": "code",
   "execution_count": 240,
   "metadata": {
    "collapsed": true,
    "scrolled": true
   },
   "outputs": [],
   "source": [
    "## Use this and additional cells to answer Question 4b.                 ##\n",
    "##                                                                      ##\n",
    "## HINT: The csv module reads in all of the data as strings, including  ##\n",
    "## numeric values. You will need a function to convert the strings      ##\n",
    "## into an appropriate numeric type before you aggregate data.          ##\n",
    "## TIP: For the Bay Area example, the average trip length is 14 minutes ##\n",
    "## and 3.5% of trips are longer than 30 minutes.                        ##\n",
    "\n",
    "\n",
    "# if my out files are normal, \n",
    "# use a for loop, total_time += duration, avg_len = total_time/total_users\n",
    "# use a for loop, duration <= 30, count += 1, ratio = count / total_user\n",
    "# Do NYC, Chg, DC\n",
    "\n",
    "def duration_time(filename):\n",
    "    \n",
    "    '''\n",
    "    This helper function reads in file with trip data,\n",
    "    and returns: the total time, the total users, the number of users <= 30, the total time of <=30, \n",
    "    the number of users > 30, the total time of > 30\n",
    "    '''\n",
    "    with open(filename, 'r') as f_in:\n",
    "        reader = csv.DictReader(f_in)\n",
    "        \n",
    "        total_time = 0\n",
    "        total_users = 0\n",
    "        num_user1_in30min = 0\n",
    "        total_time_user1 = 0\n",
    "        num_user2_out30min = 0\n",
    "        total_time_user2 = 0\n",
    "        \n",
    "        for row in reader:\n",
    "            \n",
    "            if float(row['duration']) <= 30:\n",
    "                num_user1_in30min += 1\n",
    "                total_time_user1 += float(row['duration'])\n",
    "            else:\n",
    "                num_user2_out30min +=1\n",
    "                total_time_user2 += float(row['duration'])\n",
    "        \n",
    "        total_users = num_user1_in30min + num_user2_out30min\n",
    "        total_time = total_time_user1 + total_time_user2\n",
    "        \n",
    "        \n",
    "        return (total_users, total_time, num_user1_in30min, total_time_user1, num_user2_out30min, total_time_user2)\n",
    "            "
   ]
  },
  {
   "cell_type": "code",
   "execution_count": 241,
   "metadata": {},
   "outputs": [
    {
     "name": "stdout",
     "output_type": "stream",
     "text": [
      "(66326, 1255741.7716833341, 59137, 699708.107166668, 7189, 556033.6645166661)\n"
     ]
    }
   ],
   "source": [
    "test1 = './data/Washington-2016-Summary.csv'\n",
    "print duration_time(test1)"
   ]
  },
  {
   "cell_type": "code",
   "execution_count": 242,
   "metadata": {
    "scrolled": true
   },
   "outputs": [
    {
     "name": "stdout",
     "output_type": "stream",
     "text": [
      "('The average trip length of each user:', '15.81', 'minutes')\n",
      "('The proportion of rides that are longer than 30 min:', '7.30%')\n"
     ]
    }
   ],
   "source": [
    "NYC_data = './data/NYC-2016-Summary.csv'\n",
    "NYC_data = duration_time(NYC_data)\n",
    "\n",
    "print ('The average trip length of each user:', \"{0:.2f}\".format(NYC_data[1]/NYC_data[0]), 'minutes')\n",
    "print ('The proportion of rides that are longer than 30 min:', \"{0:.2f}%\".format(float(NYC_data[4])/NYC_data[0]*100))"
   ]
  },
  {
   "cell_type": "code",
   "execution_count": 243,
   "metadata": {},
   "outputs": [
    {
     "name": "stdout",
     "output_type": "stream",
     "text": [
      "('The average trip length of eachuser:', '16.56')\n",
      "('The proportion of rides that are longer than 30 min:', '8.33%')\n"
     ]
    }
   ],
   "source": [
    "Chicago_data = './data/Chicago-2016-Summary.csv'\n",
    "Chicago_data = duration_time(Chicago_data)\n",
    "\n",
    "print ('The average trip length of eachuser:', \"{0:.2f}\".format(Chicago_data[1]/Chicago_data[0]))\n",
    "print ('The proportion of rides that are longer than 30 min:', \"{0:.2f}%\".format(float(Chicago_data[4])/Chicago_data[0]*100))"
   ]
  },
  {
   "cell_type": "code",
   "execution_count": 244,
   "metadata": {},
   "outputs": [
    {
     "name": "stdout",
     "output_type": "stream",
     "text": [
      "('The average trip length of each user:', '65.99')\n",
      "('The proportion of rides that are longer than 30 min:', '30.48%')\n"
     ]
    }
   ],
   "source": [
    "DC_data = './data/Washington-2016-Summary.csv'\n",
    "DC_data = duration_time(DC_data)\n",
    "\n",
    "print ('The average trip length of each user:', \"{0:.2f}\".format(NYC_data[1]/DC_data[0]))\n",
    "print ('The proportion of rides that are longer than 30 min:', \"{0:.2f}%\".format(float(NYC_data[4])/DC_data[0]*100))"
   ]
  },
  {
   "cell_type": "markdown",
   "metadata": {},
   "source": [
    "**Question 4c**: Dig deeper into the question of trip duration based on ridership. Choose one city. Within that city, which type of user takes longer rides on average: Subscribers or Customers?\n",
    "\n",
    "**Answer**: \n",
    " - I choose NYC.\n",
    " \n",
    " \n",
    " - Within the city, which type of user takes longer rides on average: Subscribers or Customers?\n",
    "     - The average length of the subscribers is 13.68 mintues;\n",
    "     - The average lenght of the customers is 32.78 minutes;\n",
    "     - So, for NYC, its customers take longer rides on average.\n",
    "     \n",
    "     "
   ]
  },
  {
   "cell_type": "code",
   "execution_count": 245,
   "metadata": {
    "collapsed": true
   },
   "outputs": [],
   "source": [
    "## Use this and additional cells to answer Question 4c. If you have    ##\n",
    "## not done so yet, consider revising some of your previous code to    ##\n",
    "## make use of functions for reusability.                              ##\n",
    "##                                                                     ##\n",
    "## TIP: For the Bay Area example data, you should find the average     ##\n",
    "## Subscriber trip duration to be 9.5 minutes and the average Customer ##\n",
    "## trip duration to be 54.6 minutes. Do the other cities have this     ##\n",
    "## level of difference?                                                ##\n",
    "\n",
    "# if I had right out files, \n",
    "# If usertype == subscriber, total_time += duration, count +=1, avg_time = total_time/count\n",
    "# else, total_time += duration, count +=1, avg_time = total_time/count\n",
    "\n",
    "def minutes_of_types(filename):\n",
    "    \n",
    "    with open(filename, 'r') as f_in:\n",
    "        reader = csv.DictReader(f_in)\n",
    "        \n",
    "        customers = 0\n",
    "        c_duration = 0\n",
    "        subscribers = 0\n",
    "        s_duration = 0\n",
    "        for row in reader:\n",
    "            if row['user_type'] == 'Subscriber':\n",
    "                subscribers += 1\n",
    "                s_duration += float(row['duration'])\n",
    "            else:\n",
    "                customers += 1\n",
    "                c_duration += float(row['duration'])\n",
    "        return subscribers, s_duration, customers, c_duration\n"
   ]
  },
  {
   "cell_type": "code",
   "execution_count": 288,
   "metadata": {},
   "outputs": [
    {
     "name": "stdout",
     "output_type": "stream",
     "text": [
      "Average length of the subscribers: 13.68 minutes\n",
      "Average lenght of the customers: 32.78 minutes\n"
     ]
    }
   ],
   "source": [
    "NYC_data = './data/NYC-2016-Summary.csv'\n",
    "NYC_data = minutes_of_types(NYC_data)\n",
    "\n",
    "print 'Average length of the subscribers:', \"{0:.2f}\".format(NYC_data[1]/NYC_data[0]), 'minutes'\n",
    "print 'Average lenght of the customers:', \"{0:.2f}\".format(NYC_data[3]/NYC_data[2]), 'minutes'"
   ]
  },
  {
   "cell_type": "markdown",
   "metadata": {},
   "source": [
    "<a id='visualizations'></a>\n",
    "### Visualizations\n",
    "\n",
    "The last set of values that you computed should have pulled up an interesting result. While the mean trip time for Subscribers is well under 30 minutes, the mean trip time for Customers is actually _above_ 30 minutes! It will be interesting for us to look at how the trip times are distributed. In order to do this, a new library will be introduced here, `matplotlib`. Run the cell below to load the library and to generate an example plot."
   ]
  },
  {
   "cell_type": "code",
   "execution_count": 247,
   "metadata": {},
   "outputs": [
    {
     "data": {
      "image/png": "[encoded data removed]",
      "text/plain": [
       "<matplotlib.figure.Figure at 0x112f93c10>"
      ]
     },
     "metadata": {},
     "output_type": "display_data"
    }
   ],
   "source": [
    "# load library\n",
    "import matplotlib.pyplot as plt\n",
    "\n",
    "# this is a 'magic word' that allows for plots to be displayed\n",
    "# inline with the notebook. If you want to know more, see:\n",
    "# http://ipython.readthedocs.io/en/stable/interactive/magics.html\n",
    "%matplotlib inline \n",
    "\n",
    "# example histogram, data taken from bay area sample\n",
    "data = [ 7.65,  8.92,  7.42,  5.50, 16.17,  4.20,  8.98,  9.62, 11.48, 14.33,\n",
    "        19.02, 21.53,  3.90,  7.97,  2.62,  2.67,  3.08, 14.40, 12.90,  7.83,\n",
    "        25.12,  8.30,  4.93, 12.43, 10.60,  6.17, 10.88,  4.78, 15.15,  3.53,\n",
    "         9.43, 13.32, 11.72,  9.85,  5.22, 15.10,  3.95,  3.17,  8.78,  1.88,\n",
    "         4.55, 12.68, 12.38,  9.78,  7.63,  6.45, 17.38, 11.90, 11.52,  8.63,]\n",
    "plt.hist(data)\n",
    "plt.title('Distribution of Trip Durations')\n",
    "plt.xlabel('Duration (m)')\n",
    "plt.ylabel('Frequency')\n",
    "plt.show()"
   ]
  },
  {
   "cell_type": "markdown",
   "metadata": {},
   "source": [
    "In the above cell, we collected fifty trip times in a list, and passed this list as the first argument to the `.hist()` function. This function performs the computations and creates plotting objects for generating a histogram, but the plot is actually not rendered until the `.show()` function is executed. The `.title()` and `.xlabel()` functions provide some labeling for plot context.\n",
    "\n",
    "You will now use these functions to create a histogram of the trip times for the city you selected in question 4c. Don't separate the Subscribers and Customers for now: just collect all of the trip times and plot them."
   ]
  },
  {
   "cell_type": "code",
   "execution_count": 248,
   "metadata": {},
   "outputs": [
    {
     "data": {
      "image/png": "[encoded data removed]",
      "text/plain": [
       "<matplotlib.figure.Figure at 0x112f65110>"
      ]
     },
     "metadata": {},
     "output_type": "display_data"
    }
   ],
   "source": [
    "## Use this and additional cells to collect all of the trip times as a list ##\n",
    "## and then use pyplot functions to generate a histogram of trip times.     ##\n",
    "\n",
    "data = NYC_data\n",
    "\n",
    "plt.hist(data)\n",
    "plt.title('Distribution of Trip Duration')\n",
    "plt.xlabel('Duration(m)')\n",
    "plt.ylabel('Frequency')\n",
    "plt.show()"
   ]
  },
  {
   "cell_type": "markdown",
   "metadata": {},
   "source": [
    "If you followed the use of the `.hist()` and `.show()` functions exactly like in the example, you're probably looking at a plot that's completely unexpected. The plot consists of one extremely tall bar on the left, maybe a very short second bar, and a whole lot of empty space in the center and right. Take a look at the duration values on the x-axis. This suggests that there are some highly infrequent outliers in the data. Instead of reprocessing the data, you will use additional parameters with the `.hist()` function to limit the range of data that is plotted. Documentation for the function can be found [[here]](https://matplotlib.org/devdocs/api/_as_gen/matplotlib.pyplot.hist.html#matplotlib.pyplot.hist).\n",
    "\n",
    "**Question 5**: Use the parameters of the `.hist()` function to plot the distribution of trip times for the Subscribers in your selected city. Do the same thing for only the Customers. Add limits to the plots so that only trips of duration less than 75 minutes are plotted. As a bonus, set the plots up so that bars are in five-minute wide intervals. For each group, where is the peak of each distribution? How would you describe the shape of each distribution?\n",
    "\n",
    "**Answer**: \n",
    " - For the group of subscribers, the peak is around 10 mintues of duration, and the shape is higly right skewed.\n",
    " - For the group of customers, the peak is around 25 minutes of duration, and the shape is relatively right skewed."
   ]
  },
  {
   "cell_type": "code",
   "execution_count": 249,
   "metadata": {
    "collapsed": true
   },
   "outputs": [],
   "source": [
    "## Use this and additional cells to answer Question 5. ##\n",
    "'''\n",
    "1. durations of sub\n",
    "2. durations of cust.\n",
    "'''\n",
    "\n",
    "def get_distributions(filename):\n",
    "    \n",
    "    with open(filename, 'r') as f_in:\n",
    "        reader = csv.DictReader(f_in)\n",
    "        \n",
    "        list_sub = []\n",
    "        list_cust = []\n",
    "        for row in reader: \n",
    "            if row['user_type'] == 'Subscriber':\n",
    "                list_sub.append(float(row['duration']))\n",
    "            else:\n",
    "                list_cust.append(float(row['duration']))\n",
    "        return list_sub, list_cust\n"
   ]
  },
  {
   "cell_type": "code",
   "execution_count": 250,
   "metadata": {},
   "outputs": [
    {
     "data": {
      "image/png": "[encoded data removed]",
      "text/plain": [
       "<matplotlib.figure.Figure at 0x116336810>"
      ]
     },
     "metadata": {},
     "output_type": "display_data"
    }
   ],
   "source": [
    "'''\n",
    "1. A histogram for subscribers, duration < 75 minutes, five minute wide intervals;\n",
    "2. A histogram for customers, duration < 75 mintutes, five minute wide intervals;\n",
    "'''\n",
    "\n",
    "NYC_data2 = './data/NYC-2016-Summary.csv'\n",
    "NYC_data2 = get_distributions(NYC_data2)\n",
    "\n",
    "subscribers_data = NYC_data2[0]\n",
    "plt.hist(subscribers_data, range(0,75), width = 5)\n",
    "plt.title('Distribution of Subscribers Duration')\n",
    "plt.xlabel('Duration(m)')\n",
    "plt.ylabel('Frequency')\n",
    "plt.show()"
   ]
  },
  {
   "cell_type": "code",
   "execution_count": 251,
   "metadata": {},
   "outputs": [
    {
     "data": {
      "image/png": "[encoded data removed]",
      "text/plain": [
       "<matplotlib.figure.Figure at 0x112c40890>"
      ]
     },
     "metadata": {},
     "output_type": "display_data"
    }
   ],
   "source": [
    "customers_data = NYC_data2[1]\n",
    "bins = [0,75]\n",
    "plt.hist(customers_data, range(0,75), width = 5)\n",
    "plt.title('Distribution of Customers Duration')\n",
    "plt.xlabel('Duration(m)')\n",
    "plt.ylabel('Frequency')\n",
    "plt.show()"
   ]
  },
  {
   "cell_type": "markdown",
   "metadata": {
    "collapsed": true
   },
   "source": [
    "<a id='eda_continued'></a>\n",
    "## Performing Your Own Analysis\n",
    "\n",
    "So far, you've performed an initial exploration into the data available. You have compared the relative volume of trips made between three U.S. cities and the ratio of trips made by Subscribers and Customers. For one of these cities, you have investigated differences between Subscribers and Customers in terms of how long a typical trip lasts. Now it is your turn to continue the exploration in a direction that you choose. Here are a few suggestions for questions to explore:\n",
    "\n",
    "- How does ridership differ by month or season? Which month / season has the highest ridership? Does the ratio of Subscriber trips to Customer trips change depending on the month or season?\n",
    "- Is the pattern of ridership different on the weekends versus weekdays? On what days are Subscribers most likely to use the system? What about Customers? Does the average duration of rides change depending on the day of the week?\n",
    "- During what time of day is the system used the most? Is there a difference in usage patterns for Subscribers and Customers?\n",
    "\n",
    "If any of the questions you posed in your answer to question 1 align with the bullet points above, this is a good opportunity to investigate one of them. As part of your investigation, you will need to create a visualization. If you want to create something other than a histogram, then you might want to consult the [Pyplot documentation](https://matplotlib.org/devdocs/api/pyplot_summary.html). In particular, if you are plotting values across a categorical variable (e.g. city, user type), a bar chart will be useful. The [documentation page for `.bar()`](https://matplotlib.org/devdocs/api/_as_gen/matplotlib.pyplot.bar.html#matplotlib.pyplot.bar) includes links at the bottom of the page with examples for you to build off of for your own use.\n",
    "\n",
    "**Question 6**: Continue the investigation by exploring another question that could be answered by the data available. Document the question you want to explore below. Your investigation should involve at least two variables and should compare at least two groups. You should also use at least one visualization as part of your explorations.\n",
    "\n",
    "**Answer**: \n",
    " - In NYC, how does ridership differ by season? \n",
    "     - In spring,the rishership is about 63,028.\n",
    "     - In summer, the rishership is about 87,868.\n",
    "     - In fall, the rishership is about 88,366.\n",
    "     - In winter, the rishership is about 37,536.\n",
    "     - Warm and hot seaons such as summer and fall have the high riderships.\n",
    "     - Cold and freezing seasons such as spring and winter have surprisingly low riderships.\n",
    "\n",
    "\n",
    "\n",
    " - Which season has the highest ridership?\n",
    "     - Based on the data, fall has the highest ridership. \n",
    "  \n",
    "  \n",
    "  \n",
    " - Does the ratio of subscriber trips change depending on the season?\n",
    "     - In spring,  the ratio of subscriber trips is 87.75%\n",
    "     - In summer, the ratio of subscriber trips is 86.88%\n",
    "     - In fall, the ratio of subscriber trips is 88.90%\n",
    "     - In winter, the ratio of subscriber trips is 95.08%\n",
    "     - Only the winter, the ratio of subscribers goes up really high.\n",
    "     - Maybe, in the winter, the number of number drops substantially, which cause the ratio to go up. \n"
   ]
  },
  {
   "cell_type": "code",
   "execution_count": 252,
   "metadata": {},
   "outputs": [
    {
     "data": {
      "text/plain": [
       "\"\\nWhat else I need:\\n1. seaons (spr: 3,4,5; summer:6,7,8; fall:9,10,11; Winter: 12,1,2) (don't need to add new column onto csv)\\n2. weekdays & weekends (don't need to add new column onto )\\n3. \\n\""
      ]
     },
     "execution_count": 252,
     "metadata": {},
     "output_type": "execute_result"
    }
   ],
   "source": [
    "## Use this and additional cells to continue to explore the dataset. ##\n",
    "## Once you have performed your exploration, document your findings  ##\n",
    "## in the Markdown cell above. ##\n",
    "\n",
    "'''\n",
    "What I have now:\n",
    "1. duration(m)\n",
    "2. month\n",
    "3. hour\n",
    "4. day_of_week\n",
    "5. user_type\n",
    "'''\n",
    "\n",
    "'''\n",
    "What else I need:\n",
    "1. seaons (spr: 3,4,5; summer:6,7,8; fall:9,10,11; Winter: 12,1,2) (don't need to add new column onto csv) \n",
    "'''\n"
   ]
  },
  {
   "cell_type": "code",
   "execution_count": 293,
   "metadata": {},
   "outputs": [],
   "source": [
    "'''\n",
    "To answer the questions, need a helper function.\n",
    "'''\n",
    "# Collect months to get season data\n",
    "# Identify usertype to get numbers of each group\n",
    "\n",
    "def season_distributions(filename):\n",
    "    with open(filename, 'r') as f_in:\n",
    "        reader = csv.DictReader(f_in)\n",
    "    \n",
    "        spring = 0\n",
    "        summer = 0\n",
    "        fall = 0\n",
    "        winter = 0\n",
    "        spr_sub = 0\n",
    "        spr_cus = 0\n",
    "        sum_sub = 0\n",
    "        sum_cus = 0\n",
    "        fall_sub = 0\n",
    "        fall_cus = 0\n",
    "        wint_sub = 0\n",
    "        wint_cus = 0\n",
    "\n",
    "        for row in reader:\n",
    "            if int(row['month']) == 3 or int(row['month']) == 4 or int(row['month']) == 5:\n",
    "                spring += 1\n",
    "                if row['user_type'] == 'Subscriber':\n",
    "                    spr_sub +=1\n",
    "                else: \n",
    "                    spr_cus +=1\n",
    "            elif int(row['month']) == 6 or int(row['month']) == 7 or int(row['month']) == 8:\n",
    "                summer += 1\n",
    "                if row['user_type'] == 'Subscriber':\n",
    "                    sum_sub +=1\n",
    "                else: \n",
    "                    sum_cus +=1\n",
    "            elif int(row['month']) == 9 or int(row['month']) == 10 or int(row['month']) == 11:\n",
    "                fall +=1\n",
    "                if row['user_type'] == 'Subscriber':\n",
    "                    fall_sub +=1\n",
    "                else: \n",
    "                    fall_cus +=1\n",
    "            else:\n",
    "                if row['user_type'] == 'Subscriber':\n",
    "                    wint_sub +=1\n",
    "                else: \n",
    "                    wint_cus +=1\n",
    "                winter +=1\n",
    "\n",
    "        return spring, spr_sub, spr_cus, summer, sum_sub, sum_cus, fall, fall_sub, fall_cus, winter, wint_sub, wint_cus\n"
   ]
  },
  {
   "cell_type": "code",
   "execution_count": 294,
   "metadata": {},
   "outputs": [
    {
     "name": "stdout",
     "output_type": "stream",
     "text": [
      "(63028, 55309, 7719, 87868, 76343, 11525, 88366, 78554, 9812, 37536, 35690, 1846)\n"
     ]
    }
   ],
   "source": [
    "NYC_data = './data/NYC-2016-Summary.csv'\n",
    "NYC_data = season_distributions(NYC_data)\n",
    "print NYC_data"
   ]
  },
  {
   "cell_type": "code",
   "execution_count": 295,
   "metadata": {},
   "outputs": [],
   "source": [
    "spring = NYC_data[0]\n",
    "spring_sub = NYC_data[1]\n",
    "spring_cus = NYC_data[2]\n",
    "spr_sub_ratio = \"{0:.2f}%\".format(float(spring_sub)/float(spring)*100)\n",
    "\n",
    "summer = NYC_data[3]\n",
    "summer_sub = NYC_data[4]\n",
    "summer_cus = NYC_data[5]\n",
    "sum_sub_ratio = \"{0:.2f}%\".format(float(summer_sub)/float(summer)*100)\n",
    "\n",
    "fall = NYC_data[6]\n",
    "fall_sub = NYC_data[7]\n",
    "fall_cus = NYC_data[8]\n",
    "fall_sub_ratio = \"{0:.2f}%\".format(float(fall_sub)/float(fall)*100)\n",
    "\n",
    "winter = NYC_data[9]\n",
    "winter_sub = NYC_data[10]\n",
    "winter_cus = NYC_data[11]\n",
    "winter_sub_ratio = \"{0:.2f}%\".format(float(winter_sub)/float(winter)*100)"
   ]
  },
  {
   "cell_type": "code",
   "execution_count": 311,
   "metadata": {
    "scrolled": true
   },
   "outputs": [
    {
     "name": "stdout",
     "output_type": "stream",
     "text": [
      "Spring users: 63028\n",
      "Spring subsribers ratio: 87.75% \n",
      "\n",
      "Summmer users: 87868\n",
      "Summer subscribers ratio: 86.88% \n",
      "\n",
      "Fall users: 88366\n",
      "Fall subscribers ratio 88.90% \n",
      "\n",
      "Winter users 37536\n",
      "Winter subscribers ratio 95.08%\n"
     ]
    }
   ],
   "source": [
    "print 'Spring users:', spring \n",
    "print 'Spring subsribers ratio:', spr_sub_ratio, '\\n' \n",
    "\n",
    "print 'Summmer users:', summer\n",
    "print 'Summer subscribers ratio:', sum_sub_ratio, '\\n'\n",
    "\n",
    "print 'Fall users:', fall\n",
    "print 'Fall subscribers ratio', fall_sub_ratio, '\\n'\n",
    "\n",
    "print 'Winter users', winter\n",
    "print 'Winter subscribers ratio', winter_sub_ratio\n"
   ]
  },
  {
   "cell_type": "code",
   "execution_count": 348,
   "metadata": {},
   "outputs": [
    {
     "data": {
      "image/png": "[encoded data removed]",
      "text/plain": [
       "<matplotlib.figure.Figure at 0x112f62790>"
      ]
     },
     "metadata": {},
     "output_type": "display_data"
    },
    {
     "data": {
      "image/png": "[encoded data removed]",
      "text/plain": [
       "<matplotlib.figure.Figure at 0x112f65190>"
      ]
     },
     "metadata": {},
     "output_type": "display_data"
    },
    {
     "data": {
      "image/png": "[encoded data removed]",
      "text/plain": [
       "<matplotlib.figure.Figure at 0x117d75650>"
      ]
     },
     "metadata": {},
     "output_type": "display_data"
    },
    {
     "data": {
      "image/png": "[encoded data removed]",
      "text/plain": [
       "<matplotlib.figure.Figure at 0x112836d50>"
      ]
     },
     "metadata": {},
     "output_type": "display_data"
    }
   ],
   "source": [
    "labels1 = \"Subscribers\", \"Customers\"\n",
    "fracs1 = [87.77, 12.23]\n",
    "fig1, ax1 = plt.subplots()\n",
    "ax1.pie(fracs1, labels = labels1, autopct = '%1.1f%%', shadow = True, startangle = 90)\n",
    "ax1.axis('equal')\n",
    "plt.xlabel('Spring', fontsize = 16)\n",
    "plt.show()\n",
    "\n",
    "\n",
    "\n",
    "labels2 = \"Subscribers\", \"Customers\"\n",
    "fracs2 = [86.88, 13.12]\n",
    "fig1, ax1 = plt.subplots()\n",
    "ax1.pie(fracs2, labels = labels2, autopct = '%1.1f%%', shadow = True, startangle = 90)\n",
    "ax1.axis('equal')\n",
    "plt.xlabel('Summer', fontsize = 16)\n",
    "plt.show()\n",
    "\n",
    "\n",
    "\n",
    "labels3 = \"Subscribers\", \"Customers\"\n",
    "fracs3 = [88.90, 11.1]\n",
    "fig1, ax1 = plt.subplots()\n",
    "ax1.pie(fracs3, labels = labels3, autopct = '%1.1f%%', shadow = True, startangle = 90)\n",
    "ax1.axis('equal')\n",
    "plt.xlabel('Fall', fontsize = 16)\n",
    "plt.show()\n",
    "\n",
    "\n",
    "\n",
    "labels4 = \"Subscribers\", \"Customers\"\n",
    "fracs4 = [95.08, 4.98]\n",
    "fig1, ax1 = plt.subplots()\n",
    "ax1.pie(fracs4, labels = labels4, autopct = '%1.1f%%', shadow = True, startangle = 90)\n",
    "ax1.axis('equal')\n",
    "plt.xlabel('Spring', fontsize = 16)\n",
    "plt.show()\n"
   ]
  },
  {
   "cell_type": "code",
   "execution_count": 362,
   "metadata": {},
   "outputs": [
    {
     "name": "stdout",
     "output_type": "stream",
     "text": [
      "276798\n"
     ]
    }
   ],
   "source": [
    "total = spring + summer + fall + winter\n",
    "print total \n",
    "\n",
    "spring_ratio = \"{0:.2f}\".format(float(spring)/total * 100)\n",
    "summer_ratio = \"{0:.2f}\".format(float(summer)/total * 100)\n",
    "fall_ratio = \"{0:.2f}\".format(float(fall)/total *100)\n",
    "winter_ratio = \"{0:.2f}\".format(float(winter)/total * 100)"
   ]
  },
  {
   "cell_type": "code",
   "execution_count": 364,
   "metadata": {},
   "outputs": [
    {
     "data": {
      "image/png": "[encoded data removed]",
      "text/plain": [
       "<matplotlib.figure.Figure at 0x118664690>"
      ]
     },
     "metadata": {},
     "output_type": "display_data"
    }
   ],
   "source": [
    "labels5 = \"Spring\", \"Summer\", \"Fall\", \"Winter\"\n",
    "fracs5 = [spring_ratio, summer_ratio, fall_ratio, winter_ratio]\n",
    "\n",
    "\n",
    "fig1, ax1 = plt.subplots()\n",
    "ax1.pie(fracs5, labels = labels5, autopct = '%1.1f%%', shadow = True, startangle = 90)\n",
    "ax1.axis('equal')\n",
    "plt.xlabel('Four Seasons Subscribers Ratios', fontsize = 16)\n",
    "plt.show()"
   ]
  },
  {
   "cell_type": "markdown",
   "metadata": {},
   "source": [
    "<a id='conclusions'></a>\n",
    "## Conclusions\n",
    "\n",
    "Congratulations on completing the project! This is only a sampling of the data analysis process: from generating questions, wrangling the data, and to exploring the data. Normally, at this point in the data analysis process, you might want to draw conclusions about the data by performing a statistical test or fitting the data to a model for making predictions. There are also a lot of potential analyses that could be performed on the data which are not possible with only the data provided. For example, detailed location data has not been investigated. Where are the most commonly used docks? What are the most common routes? As another example, weather has potential to have a large impact on daily ridership. How much is ridership impacted when there is rain or snow? Are subscribers or customers affected more by changes in weather?\n",
    "\n",
    "**Question 7**: Putting the bike share data aside, think of a topic or field of interest where you would like to be able to apply the techniques of data science. What would you like to be able to learn from your chosen subject?\n",
    "\n",
    "**Answer**: \n",
    "\n",
    "- I'm pretty interested in supply chain and retailing.\n",
    "- Here is a story that might combine them together into a data problem.\n",
    "- There was a poor, young, rice delivery man in Taiwan back 1930s.\n",
    "- His rice shop had good reputations on quality and service, so his rice were popular in his small town.\n",
    "- Many of his customers were old and aged men. Unlike his competitors who only unloaded rice in from of the old men's door, this guy carried the heavy bags full of rice to people's rice jars and fill the rice in freely .\n",
    "- If there were rick stocked for a while, the young man would pour the old rick out and fill the bottom part of rice jar in with new rice, and finally put the old rice on the top part of the rice jar.\n",
    "- The young man was truly different.\n",
    "- After he helped the old men fill in the rice, he then asked questions like how many people at their households, how many adults, how many children, how old are they, how much rice they roughly eat each time, and next the young man took down all the numbers he got from those households.\n",
    "- Based the data he got from the households, he now could roughly predict next purchase time of each of those households, and sent out the rice to their home before housewives came in the young man's rice shop and placed orders.\n",
    "- The young man is YC Wang, he was one of the richest men in the world when he passed away in 2008.\n",
    "- This is a simplest model of future retailing.\n",
    "- I am very interested in how data science and machine learning improve the efficiency of the retailing and supply chain behind the retailing. How to make more accurate customer preference predictions? How to reshape manufacturing process with quickly updated customer preferences? How to delivery daily supplies in a time right before customers go to market do replenishments? How to more smartly manage inventories and warehouse with those information? How to make a AI version of Toyota JIT? And more questions.\n",
    "- I like to learn more about these questions."
   ]
  },
  {
   "cell_type": "code",
   "execution_count": null,
   "metadata": {
    "collapsed": true
   },
   "outputs": [],
   "source": []
  }
 ],
 "metadata": {
  "anaconda-cloud": {},
  "kernelspec": {
   "display_name": "Python 2",
   "language": "python",
   "name": "python2"
  },
  "language_info": {
   "codemirror_mode": {
    "name": "ipython",
    "version": 2
   },
   "file_extension": ".py",
   "mimetype": "text/x-python",
   "name": "python",
   "nbconvert_exporter": "python",
   "pygments_lexer": "ipython2",
   "version": "2.7.13"
  }
 },
 "nbformat": 4,
 "nbformat_minor": 1
}
